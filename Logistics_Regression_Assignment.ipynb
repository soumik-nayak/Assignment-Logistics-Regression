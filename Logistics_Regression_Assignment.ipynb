{
  "nbformat": 4,
  "nbformat_minor": 0,
  "metadata": {
    "colab": {
      "provenance": []
    },
    "kernelspec": {
      "name": "python3",
      "display_name": "Python 3"
    },
    "language_info": {
      "name": "python"
    }
  },
  "cells": [
    {
      "cell_type": "markdown",
      "source": [
        "# LOGISTIC REGRESSION Questions\n"
      ],
      "metadata": {
        "id": "cmg0EKO5dCyp"
      }
    },
    {
      "cell_type": "markdown",
      "source": [
        "#THEORY"
      ],
      "metadata": {
        "id": "7wahasx6dMsB"
      }
    },
    {
      "cell_type": "markdown",
      "source": [
        "## 1. What is Logistic Regression, and how does it differ from Linear Regression?\n",
        "\n",
        "Logistic Regression is a supervised learning algorithm used for **classification tasks**. It predicts the probability of a class using the **sigmoid function**, unlike Linear Regression, which predicts continuous values.\n",
        "\n",
        "**Differences:**\n",
        "- **Linear Regression**: Predicts continuous values.\n",
        "- **Logistic Regression**: Predicts probabilities for categorical outcomes.\n",
        "\n",
        "---\n",
        "\n",
        "## 2. What is the mathematical equation of Logistic Regression?\n",
        "\n",
        "The equation is:\n",
        "\n",
        "\\[\n",
        "P(Y=1 | X) = \\frac{1}{1 + e^{-(\\beta_0 + \\beta_1X_1 + \\beta_2X_2 + ... + \\beta_nX_n)}}\n",
        "\\]\n",
        "\n",
        "where:\n",
        "- \\( P(Y=1 | X) \\) is the probability of the positive class.\n",
        "- \\( \\beta_0 \\) is the intercept.\n",
        "- \\( \\beta_1, \\beta_2, ..., \\beta_n \\) are feature coefficients.\n",
        "- \\( e \\) is Euler’s number.\n",
        "\n",
        "---\n",
        "\n",
        "## 3. Why do we use the Sigmoid function in Logistic Regression?\n",
        "\n",
        "The **sigmoid function**:\n",
        "\n",
        "\\[\n",
        "\\sigma(z) = \\frac{1}{1 + e^{-z}}\n",
        "\\]\n",
        "\n",
        "is used because:\n",
        "- It converts any real number into a probability (0 to 1).\n",
        "- It provides a smooth gradient for optimization.\n",
        "\n",
        "---\n",
        "\n",
        "## 4. What is the cost function of Logistic Regression?\n",
        "\n",
        "Instead of Mean Squared Error (MSE), Logistic Regression uses **log loss (cross-entropy loss)**:\n",
        "\n",
        "\\[\n",
        "J(\\beta) = -\\frac{1}{m} \\sum_{i=1}^{m} \\left[ y_i \\log(\\hat{y}_i) + (1 - y_i) \\log(1 - \\hat{y}_i) \\right]\n",
        "\\]\n",
        "\n",
        "where \\( \\hat{y}_i \\) is the predicted probability.\n",
        "\n",
        "---\n",
        "\n",
        "## 5. What is Regularization in Logistic Regression? Why is it needed?\n",
        "\n",
        "Regularization prevents **overfitting** by adding a penalty term to the cost function.\n",
        "\n",
        "- **L1 (Lasso)**: Shrinks some coefficients to zero (feature selection).\n",
        "- **L2 (Ridge)**: Shrinks coefficients but keeps all features.\n",
        "\n",
        "---\n",
        "\n",
        "## 6. Explain the difference between Lasso, Ridge, and Elastic Net regression.\n",
        "\n",
        "| Regularization | Penalty Term | Effect |\n",
        "|---------------|-------------|--------|\n",
        "| **Lasso (L1)** | \\( \\lambda \\sum |\\beta_j| \\) | Eliminates some features |\n",
        "| **Ridge (L2)** | \\( \\lambda \\sum \\beta_j^2 \\) | Shrinks coefficients without eliminating |\n",
        "| **Elastic Net** | \\( \\lambda_1 \\sum |\\beta_j| + \\lambda_2 \\sum \\beta_j^2 \\) | Mix of Lasso & Ridge |\n",
        "\n",
        "---\n",
        "\n",
        "## 7. When should we use Elastic Net instead of Lasso or Ridge?\n",
        "\n",
        "- When there are **many correlated features**.\n",
        "- When we need both **feature selection (L1)** and **shrinkage (L2)**.\n",
        "\n",
        "---\n",
        "\n",
        "## 8. What is the impact of the regularization parameter (λ) in Logistic Regression?\n",
        "\n",
        "- **Higher λ** → More regularization → Avoids overfitting.\n",
        "- **Lower λ** → Less regularization → Risk of overfitting.\n",
        "- **Too high λ** → Can cause underfitting.\n",
        "\n",
        "---\n",
        "\n",
        "## 9. What are the key assumptions of Logistic Regression?\n",
        "\n",
        "- **Linear relationship** between independent variables and log-odds.\n",
        "- **No multicollinearity**.\n",
        "- **Large sample size**.\n",
        "- **Independence of observations**.\n",
        "\n",
        "---\n",
        "\n",
        "## 10. What are some alternatives to Logistic Regression for classification tasks?\n",
        "\n",
        "- **Decision Trees**\n",
        "- **Random Forest**\n",
        "- **Support Vector Machines (SVM)**\n",
        "- **Naïve Bayes**\n",
        "- **Neural Networks**\n",
        "\n",
        "---\n",
        "\n",
        "## 11. What are Classification Evaluation Metrics?\n",
        "\n",
        "- **Accuracy** = \\( \\frac{\\text{Correct Predictions}}{\\text{Total Predictions}} \\)\n",
        "- **Precision** = \\( \\frac{TP}{TP + FP} \\)\n",
        "- **Recall** = \\( \\frac{TP}{TP + FN} \\)\n",
        "- **F1-Score** = \\( 2 \\times \\frac{\\text{Precision} \\times \\text{Recall}}{\\text{Precision} + \\text{Recall}} \\)\n",
        "- **ROC-AUC Score** (for model performance evaluation).\n",
        "\n",
        "---\n",
        "\n",
        "## 12. How does class imbalance affect Logistic Regression?\n",
        "\n",
        "- The model may be biased toward the majority class.\n",
        "- **Solutions**:\n",
        "  - Oversampling minority / undersampling majority class.\n",
        "  - Weighted loss functions.\n",
        "  - Trying alternative models (e.g., Random Forest).\n",
        "\n",
        "---\n",
        "\n",
        "## 13. What is Hyperparameter Tuning in Logistic Regression?\n",
        "\n",
        "Optimizing parameters like:\n",
        "- **Regularization strength (λ)**\n",
        "- **Solver selection** (`liblinear`, `lbfgs`, etc.)\n",
        "- **Penalty type (L1, L2, Elastic Net)**\n",
        "\n",
        "Methods:\n",
        "- **Grid Search**\n",
        "- **Random Search**\n",
        "- **Bayesian Optimization**\n",
        "\n",
        "---\n",
        "\n",
        "## 14. What are different solvers in Logistic Regression? Which one should be used?\n",
        "\n",
        "| Solver | Supports L1 | Supports L2 | Multiclass | Best Use Case |\n",
        "|--------|------------|------------|------------|---------------|\n",
        "| **liblinear** | ✅ | ✅ | No | Small datasets |\n",
        "| **lbfgs** | ❌ | ✅ | Yes | Large datasets |\n",
        "| **saga** | ✅ | ✅ | Yes | Sparse data |\n",
        "| **newton-cg** | ❌ | ✅ | Yes | Smooth optimization |\n",
        "\n",
        "---\n",
        "\n",
        "## 15. How is Logistic Regression extended for multiclass classification?\n",
        "\n",
        "Two approaches:\n",
        "- **One-vs-Rest (OvR)**: Trains a separate model per class.\n",
        "- **Softmax Regression**: Uses the softmax function to output class probabilities.\n",
        "\n",
        "---\n",
        "\n",
        "## 16. What are the advantages and disadvantages of Logistic Regression?\n",
        "\n",
        "✅ **Advantages**:\n",
        "- Simple and interpretable.\n",
        "- Works well with small datasets.\n",
        "- Fast and computationally efficient.\n",
        "\n",
        "❌ **Disadvantages**:\n",
        "- Assumes linearity in log-odds.\n",
        "- Struggles with complex patterns.\n",
        "- Sensitive to multicollinearity.\n",
        "\n",
        "---\n",
        "\n",
        "## 17. What are some use cases of Logistic Regression?\n",
        "\n",
        "- **Spam detection**\n",
        "- **Medical diagnosis (disease prediction)**\n",
        "- **Credit risk assessment**\n",
        "- **Customer churn prediction**\n",
        "- **Fraud detection**\n",
        "\n",
        "---\n",
        "\n",
        "## 18. What is the difference between Softmax Regression and Logistic Regression?\n",
        "\n",
        "- **Logistic Regression**: Binary classification.\n",
        "- **Softmax Regression**: Multiclass classification.\n",
        "\n",
        "---\n",
        "\n",
        "## 19. How do we choose between One-vs-Rest (OvR) and Softmax for multiclass classification?\n",
        "\n",
        "- **OvR**: Works well for imbalanced datasets.\n",
        "- **Softmax**: Better when classes are balanced.\n",
        "\n",
        "---\n",
        "\n",
        "## 20. How do we interpret coefficients in Logistic Regression?\n",
        "\n",
        "- **Positive coefficient** → Increases log-odds of positive class.\n",
        "- **Negative coefficient** → Decreases log-odds of positive class.\n",
        "- \\( e^{\\beta_j} \\) represents the **odds ratio**.\n",
        "\n",
        "---\n"
      ],
      "metadata": {
        "id": "2o3crCvBdlwn"
      }
    },
    {
      "cell_type": "markdown",
      "source": [
        "#PRACTICAL"
      ],
      "metadata": {
        "id": "sSk8XnpvfSmL"
      }
    },
    {
      "cell_type": "code",
      "source": [
        "# 1: Write a Python program that loads a dataset, splits it into training and testing sets, applies Logistic Regression, and prints the model accuracy.\n",
        "import numpy as np\n",
        "import pandas as pd\n",
        "from sklearn.model_selection import train_test_split\n",
        "from sklearn.linear_model import LogisticRegression\n",
        "from sklearn.metrics import accuracy_score\n",
        "from sklearn.datasets import load_iris\n",
        "\n",
        "# Load dataset\n",
        "iris = load_iris()\n",
        "X = iris.data\n",
        "y = (iris.target == 0).astype(int)  # Binary classification: Class 0 vs Rest\n",
        "\n",
        "# Split into training and testing sets\n",
        "X_train, X_test, y_train, y_test = train_test_split(X, y, test_size=0.2, random_state=42)\n",
        "\n",
        "# Apply Logistic Regression\n",
        "model = LogisticRegression()\n",
        "model.fit(X_train, y_train)\n",
        "\n",
        "# Predict on test set\n",
        "y_pred = model.predict(X_test)\n",
        "\n",
        "# Print model accuracy\n",
        "accuracy = accuracy_score(y_test, y_pred)\n",
        "print(f'Model Accuracy: {accuracy:.2f}')"
      ],
      "metadata": {
        "colab": {
          "base_uri": "https://localhost:8080/"
        },
        "id": "dWnE-d5Pieoi",
        "outputId": "86db2249-56ad-4407-e550-d7d9ec869623"
      },
      "execution_count": null,
      "outputs": [
        {
          "output_type": "stream",
          "name": "stdout",
          "text": [
            "Model Accuracy: 1.00\n"
          ]
        }
      ]
    },
    {
      "cell_type": "code",
      "source": [
        "# Question 2: Apply L1 regularization (Lasso) using LogisticRegression(penalty='l1') and print the model accuracy\n",
        "\n",
        "import numpy as np\n",
        "import pandas as pd\n",
        "from sklearn.model_selection import train_test_split\n",
        "from sklearn.preprocessing import StandardScaler\n",
        "from sklearn.linear_model import LogisticRegression\n",
        "from sklearn.metrics import accuracy_score\n",
        "\n",
        "# Generate a synthetic dataset\n",
        "from sklearn.datasets import make_classification\n",
        "X, y = make_classification(n_samples=1000, n_features=10, random_state=42)\n",
        "\n",
        "# Split the dataset into training and testing sets\n",
        "X_train, X_test, y_train, y_test = train_test_split(X, y, test_size=0.2, random_state=42)\n",
        "\n",
        "# Standardize the features\n",
        "scaler = StandardScaler()\n",
        "X_train = scaler.fit_transform(X_train)\n",
        "X_test = scaler.transform(X_test)\n",
        "\n",
        "# Train a Logistic Regression model with L1 regularization\n",
        "model = LogisticRegression(penalty='l1', solver='liblinear', C=1.0, random_state=42)\n",
        "model.fit(X_train, y_train)\n",
        "\n",
        "# Make predictions\n",
        "y_pred = model.predict(X_test)\n",
        "\n",
        "# Calculate accuracy\n",
        "accuracy = accuracy_score(y_test, y_pred)\n",
        "print(f'Model Accuracy: {accuracy:.4f}')\n",
        "\n",
        "\n"
      ],
      "metadata": {
        "colab": {
          "base_uri": "https://localhost:8080/"
        },
        "id": "JSjHvqSxifbT",
        "outputId": "48cfc8ef-1014-444c-b03d-15cdd03a962a"
      },
      "execution_count": null,
      "outputs": [
        {
          "output_type": "stream",
          "name": "stdout",
          "text": [
            "Model Accuracy: 0.8250\n"
          ]
        }
      ]
    },
    {
      "cell_type": "code",
      "source": [
        "# Question 3: Train Logistic Regression with L2 regularization (Ridge) using LogisticRegression(penalty='l2')\n",
        "# Print model accuracy and coefficients\n",
        "\n",
        "import numpy as np\n",
        "import pandas as pd\n",
        "from sklearn.model_selection import train_test_split\n",
        "from sklearn.preprocessing import StandardScaler\n",
        "from sklearn.linear_model import LogisticRegression\n",
        "from sklearn.metrics import accuracy_score\n",
        "\n",
        "# Generate synthetic dataset\n",
        "np.random.seed(42)\n",
        "X = np.random.rand(100, 5)  # 100 samples, 5 features\n",
        "y = (X[:, 0] + X[:, 1] > 1).astype(int)  # Simple decision boundary\n",
        "\n",
        "# Split dataset into training and testing sets\n",
        "X_train, X_test, y_train, y_test = train_test_split(X, y, test_size=0.2, random_state=42)\n",
        "\n",
        "# Standardize features\n",
        "scaler = StandardScaler()\n",
        "X_train = scaler.fit_transform(X_train)\n",
        "X_test = scaler.transform(X_test)\n",
        "\n",
        "# Train Logistic Regression model with L2 regularization\n",
        "model = LogisticRegression(penalty='l2', solver='lbfgs')\n",
        "model.fit(X_train, y_train)\n",
        "\n",
        "# Make predictions\n",
        "y_pred = model.predict(X_test)\n",
        "\n",
        "# Print model accuracy\n",
        "accuracy = accuracy_score(y_test, y_pred)\n",
        "print(f\"Model Accuracy: {accuracy:.4f}\")\n",
        "\n",
        "# Print model coefficients\n",
        "print(\"Model Coefficients:\")\n",
        "print(model.coef_)\n"
      ],
      "metadata": {
        "id": "EF6a26nGjOLO",
        "colab": {
          "base_uri": "https://localhost:8080/"
        },
        "outputId": "511c8dee-c3d7-4145-bb43-ef8598a26c21"
      },
      "execution_count": 1,
      "outputs": [
        {
          "output_type": "stream",
          "name": "stdout",
          "text": [
            "Model Accuracy: 0.9000\n",
            "Model Coefficients:\n",
            "[[ 2.46284943e+00  2.24599684e+00 -3.18805624e-01 -4.11842850e-01\n",
            "   2.79252046e-04]]\n"
          ]
        }
      ]
    },
    {
      "cell_type": "code",
      "source": [
        "# Question 4: Write a Python program to train Logistic Regression with Elastic Net Regularization (penalty='elasticnet').\n",
        "# Print the model accuracy and coefficients.\n",
        "\n",
        "import numpy as np\n",
        "import pandas as pd\n",
        "from sklearn.model_selection import train_test_split\n",
        "from sklearn.preprocessing import StandardScaler\n",
        "from sklearn.linear_model import LogisticRegression\n",
        "from sklearn.metrics import accuracy_score\n",
        "\n",
        "# Generate synthetic dataset\n",
        "np.random.seed(42)\n",
        "X = np.random.rand(200, 5)  # 200 samples, 5 features\n",
        "y = np.random.randint(0, 2, 200)  # Binary target variable (0 or 1)\n",
        "\n",
        "# Split dataset into training and testing sets\n",
        "X_train, X_test, y_train, y_test = train_test_split(X, y, test_size=0.2, random_state=42)\n",
        "\n",
        "# Standardize the features\n",
        "scaler = StandardScaler()\n",
        "X_train = scaler.fit_transform(X_train)\n",
        "X_test = scaler.transform(X_test)\n",
        "\n",
        "# Train Logistic Regression model with Elastic Net regularization\n",
        "model = LogisticRegression(penalty='elasticnet', solver='saga', l1_ratio=0.5)  # l1_ratio=0.5 balances L1 and L2\n",
        "model.fit(X_train, y_train)\n",
        "\n",
        "# Predict on test data\n",
        "y_pred = model.predict(X_test)\n",
        "\n",
        "# Calculate accuracy\n",
        "accuracy = accuracy_score(y_test, y_pred)\n",
        "\n",
        "# Print results\n",
        "print(\"Model Accuracy:\", accuracy)\n",
        "print(\"Model Coefficients:\", model.coef_)\n"
      ],
      "metadata": {
        "colab": {
          "base_uri": "https://localhost:8080/"
        },
        "id": "nnAxfWa5gATR",
        "outputId": "07f4d967-fdfa-4810-e7c8-b816527673eb"
      },
      "execution_count": 3,
      "outputs": [
        {
          "output_type": "stream",
          "name": "stdout",
          "text": [
            "Model Accuracy: 0.675\n",
            "Model Coefficients: [[-0.22713439 -0.47460495 -0.03776566 -0.37159168 -0.07156835]]\n"
          ]
        }
      ]
    },
    {
      "cell_type": "code",
      "source": [
        "# Question 5: Write a Python program to train a Logistic Regression model for multiclass classification using multi_class='ovr'.\n",
        "# Print the model accuracy and coefficients.\n",
        "\n",
        "import numpy as np\n",
        "import pandas as pd\n",
        "from sklearn.model_selection import train_test_split\n",
        "from sklearn.preprocessing import StandardScaler\n",
        "from sklearn.linear_model import LogisticRegression\n",
        "from sklearn.metrics import accuracy_score\n",
        "\n",
        "# Generate synthetic dataset for multiclass classification\n",
        "np.random.seed(42)\n",
        "X = np.random.rand(300, 5)  # 300 samples, 5 features\n",
        "y = np.random.randint(0, 3, 300)  # Multiclass target variable (0, 1, or 2)\n",
        "\n",
        "# Split dataset into training and testing sets\n",
        "X_train, X_test, y_train, y_test = train_test_split(X, y, test_size=0.2, random_state=42)\n",
        "\n",
        "# Standardize the features\n",
        "scaler = StandardScaler()\n",
        "X_train = scaler.fit_transform(X_train)\n",
        "X_test = scaler.transform(X_test)\n",
        "\n",
        "# Train Logistic Regression model for multiclass classification using 'ovr'\n",
        "model = LogisticRegression(multi_class='ovr', solver='lbfgs', max_iter=500)\n",
        "model.fit(X_train, y_train)\n",
        "\n",
        "# Predict on test data\n",
        "y_pred = model.predict(X_test)\n",
        "\n",
        "# Calculate accuracy\n",
        "accuracy = accuracy_score(y_test, y_pred)\n",
        "\n",
        "# Print results\n",
        "print(\"Model Accuracy:\", accuracy)\n",
        "print(\"Model Coefficients:\", model.coef_)\n"
      ],
      "metadata": {
        "colab": {
          "base_uri": "https://localhost:8080/"
        },
        "id": "D-whng1cgYST",
        "outputId": "87159992-2b6c-418f-c45b-e56307812456"
      },
      "execution_count": 4,
      "outputs": [
        {
          "output_type": "stream",
          "name": "stdout",
          "text": [
            "Model Accuracy: 0.38333333333333336\n",
            "Model Coefficients: [[ 0.06846004  0.05121364 -0.07603563  0.18325763  0.06755312]\n",
            " [ 0.05841134  0.01429321 -0.06461146 -0.04794319 -0.09242482]\n",
            " [-0.13827709 -0.06707412  0.15479421 -0.14178467  0.03422119]]\n"
          ]
        },
        {
          "output_type": "stream",
          "name": "stderr",
          "text": [
            "/usr/local/lib/python3.11/dist-packages/sklearn/linear_model/_logistic.py:1256: FutureWarning: 'multi_class' was deprecated in version 1.5 and will be removed in 1.7. Use OneVsRestClassifier(LogisticRegression(..)) instead. Leave it to its default value to avoid this warning.\n",
            "  warnings.warn(\n"
          ]
        }
      ]
    },
    {
      "cell_type": "code",
      "source": [
        "#6 . Question: Write a Python program to apply GridSearchCV to tune the hyperparameters (C and penalty) of Logistic Regression.\n",
        "# Print the best parameters and accuracy.\n",
        "\n",
        "import numpy as np\n",
        "import pandas as pd\n",
        "from sklearn.model_selection import train_test_split, GridSearchCV\n",
        "from sklearn.preprocessing import StandardScaler\n",
        "from sklearn.linear_model import LogisticRegression\n",
        "from sklearn.metrics import accuracy_score\n",
        "\n",
        "# Generate synthetic dataset\n",
        "np.random.seed(42)\n",
        "X = np.random.rand(200, 5)  # 200 samples, 5 features\n",
        "y = np.random.randint(0, 2, 200)  # Binary target variable (0 or 1)\n",
        "\n",
        "# Split dataset into training and testing sets\n",
        "X_train, X_test, y_train, y_test = train_test_split(X, y, test_size=0.2, random_state=42)\n",
        "\n",
        "# Standardize the features\n",
        "scaler = StandardScaler()\n",
        "X_train = scaler.fit_transform(X_train)\n",
        "X_test = scaler.transform(X_test)\n",
        "\n",
        "# Define Logistic Regression model\n",
        "model = LogisticRegression(solver='saga', max_iter=500)\n",
        "\n",
        "# Define parameter grid for GridSearchCV\n",
        "param_grid = {\n",
        "    'C': [0.01, 0.1, 1, 10, 100],  # Regularization strength\n",
        "    'penalty': ['l1', 'l2', 'elasticnet'],  # Regularization type\n",
        "    'l1_ratio': [0.2, 0.5, 0.8]  # Only used for 'elasticnet'\n",
        "}\n",
        "\n",
        "# Perform Grid Search with cross-validation\n",
        "grid_search = GridSearchCV(model, param_grid, cv=5, scoring='accuracy', n_jobs=-1)\n",
        "grid_search.fit(X_train, y_train)\n",
        "\n",
        "# Get best parameters and evaluate on test data\n",
        "best_model = grid_search.best_estimator_\n",
        "y_pred = best_model.predict(X_test)\n",
        "accuracy = accuracy_score(y_test, y_pred)\n",
        "\n",
        "# Print results\n",
        "print(\"Best Parameters:\", grid_search.best_params_)\n",
        "print(\"Test Set Accuracy:\", accuracy)\n"
      ],
      "metadata": {
        "colab": {
          "base_uri": "https://localhost:8080/"
        },
        "id": "Ey3Zw7hlgi9C",
        "outputId": "1a741305-57ad-412d-e510-7f02bef5275e"
      },
      "execution_count": 5,
      "outputs": [
        {
          "output_type": "stream",
          "name": "stdout",
          "text": [
            "Best Parameters: {'C': 0.1, 'l1_ratio': 0.8, 'penalty': 'elasticnet'}\n",
            "Test Set Accuracy: 0.6\n"
          ]
        }
      ]
    },
    {
      "cell_type": "code",
      "source": [
        "  # Question 7: Write a Python program to evaluate Logistic Regression using Stratified K-Fold Cross-Validation.\n",
        "# Print the average accuracy.\n",
        "\n",
        "import numpy as np\n",
        "import pandas as pd\n",
        "from sklearn.model_selection import StratifiedKFold, cross_val_score\n",
        "from sklearn.preprocessing import StandardScaler\n",
        "from sklearn.linear_model import LogisticRegression\n",
        "\n",
        "# Generate synthetic dataset\n",
        "np.random.seed(42)\n",
        "X = np.random.rand(200, 5)  # 200 samples, 5 features\n",
        "y = np.random.randint(0, 2, 200)  # Binary target variable (0 or 1)\n",
        "\n",
        "# Standardize the features\n",
        "scaler = StandardScaler()\n",
        "X = scaler.fit_transform(X)\n",
        "\n",
        "# Define Logistic Regression model\n",
        "model = LogisticRegression(solver='lbfgs', max_iter=500)\n",
        "\n",
        "# Define Stratified K-Fold cross-validator\n",
        "skf = StratifiedKFold(n_splits=5, shuffle=True, random_state=42)\n",
        "\n",
        "# Perform cross-validation and compute accuracy\n",
        "accuracies = cross_val_score(model, X, y, cv=skf, scoring='accuracy')\n",
        "\n",
        "# Print results\n",
        "print(\"Cross-Validation Accuracies:\", accuracies)\n",
        "print(\"Average Accuracy:\", np.mean(accuracies))\n"
      ],
      "metadata": {
        "colab": {
          "base_uri": "https://localhost:8080/"
        },
        "id": "NBRUXTkggqPl",
        "outputId": "96591e7a-996a-476a-ce44-667060aec251"
      },
      "execution_count": 6,
      "outputs": [
        {
          "output_type": "stream",
          "name": "stdout",
          "text": [
            "Cross-Validation Accuracies: [0.7   0.525 0.525 0.65  0.6  ]\n",
            "Average Accuracy: 0.6\n"
          ]
        }
      ]
    },
    {
      "cell_type": "code",
      "source": [
        "# Question 9: Write a Python program to apply RandomizedSearchCV for tuning hyperparameters (C, penalty, solver) in Logistic Regression.\n",
        "# Print the best parameters and accuracy.\n",
        "\n",
        "import numpy as np\n",
        "from sklearn.model_selection import train_test_split, RandomizedSearchCV\n",
        "from sklearn.linear_model import LogisticRegression\n",
        "from sklearn.metrics import accuracy_score\n",
        "\n",
        "# Create dataset\n",
        "X = np.random.rand(200, 5)\n",
        "y = np.random.randint(0, 2, 200)\n",
        "\n",
        "# Split dataset\n",
        "X_train, X_test, y_train, y_test = train_test_split(X, y, test_size=0.2, random_state=42)\n",
        "\n",
        "# Define model and hyperparameters\n",
        "model = LogisticRegression(max_iter=500)\n",
        "param_grid = {'C': [0.01, 0.1, 1, 10], 'penalty': ['l1', 'l2'], 'solver': ['liblinear', 'saga']}\n",
        "\n",
        "# Apply RandomizedSearchCV\n",
        "search = RandomizedSearchCV(model, param_grid, n_iter=5, cv=3, scoring='accuracy', random_state=42)\n",
        "search.fit(X_train, y_train)\n",
        "\n",
        "# Print results\n",
        "print(\"Best Parameters:\", search.best_params_)\n",
        "print(\"Accuracy:\", accuracy_score(y_test, search.best_estimator_.predict(X_test)))\n"
      ],
      "metadata": {
        "colab": {
          "base_uri": "https://localhost:8080/"
        },
        "id": "pJuYeijxhfAC",
        "outputId": "d96746dc-28b6-4fe8-80ce-2f7257ef3a19"
      },
      "execution_count": 10,
      "outputs": [
        {
          "output_type": "stream",
          "name": "stdout",
          "text": [
            "Best Parameters: {'solver': 'liblinear', 'penalty': 'l2', 'C': 10}\n",
            "Accuracy: 0.45\n"
          ]
        }
      ]
    },
    {
      "cell_type": "code",
      "source": [
        "# Question 10: Write a Python program to implement One-vs-One (OvO) Multiclass Logistic Regression and print accuracy.\n",
        "\n",
        "import numpy as np\n",
        "from sklearn.model_selection import train_test_split\n",
        "from sklearn.linear_model import LogisticRegression\n",
        "from sklearn.metrics import accuracy_score\n",
        "\n",
        "# Generate dataset\n",
        "X = np.random.rand(300, 5)\n",
        "y = np.random.randint(0, 3, 300)  # 3 classes\n",
        "\n",
        "# Split dataset\n",
        "X_train, X_test, y_train, y_test = train_test_split(X, y, test_size=0.2, random_state=42)\n",
        "\n",
        "# Train model\n",
        "model = LogisticRegression(multi_class='ovo', solver='lbfgs', max_iter=500)\n",
        "model.fit(X_train, y_train)\n",
        "\n",
        "# Print accuracy\n",
        "print(\"Accuracy:\", accuracy_score(y_test, model.predict(X_test)))\n"
      ],
      "metadata": {
        "id": "q1RNjuJbhv3y"
      },
      "execution_count": null,
      "outputs": []
    },
    {
      "cell_type": "code",
      "source": [
        "# Question 11: Write a Python program to train a Logistic Regression model and visualize the confusion matrix for binary classification.\n",
        "\n",
        "import seaborn as sns\n",
        "import matplotlib.pyplot as plt\n",
        "from sklearn.metrics import confusion_matrix\n",
        "\n",
        "# Train model\n",
        "model = LogisticRegression()\n",
        "model.fit(X_train, y_train)\n",
        "\n",
        "# Predict and compute confusion matrix\n",
        "y_pred = model.predict(X_test)\n",
        "cm = confusion_matrix(y_test, y_pred)\n",
        "\n",
        "# Plot confusion matrix\n",
        "sns.heatmap(cm, annot=True, fmt=\"d\", cmap=\"Blues\")\n",
        "plt.xlabel(\"Predicted\")\n",
        "plt.ylabel(\"Actual\")\n",
        "plt.show()\n"
      ],
      "metadata": {
        "colab": {
          "base_uri": "https://localhost:8080/",
          "height": 449
        },
        "id": "jrD5_VR2h0mC",
        "outputId": "32aa3cdc-04e5-4cf7-9199-8a89a3d82a07"
      },
      "execution_count": 12,
      "outputs": [
        {
          "output_type": "display_data",
          "data": {
            "text/plain": [
              "<Figure size 640x480 with 2 Axes>"
            ],
            "image/png": "[encoded data removed]"
          },
          "metadata": {}
        }
      ]
    },
    {
      "cell_type": "code",
      "source": [
        "# Question 12: Write a Python program to train a Logistic Regression model and evaluate its performance using Precision, Recall, and F1-Score.\n",
        "\n",
        "from sklearn.metrics import precision_score, recall_score, f1_score\n",
        "\n",
        "# Print evaluation metrics\n",
        "print(\"Precision:\", precision_score(y_test, y_pred))\n",
        "print(\"Recall:\", recall_score(y_test, y_pred))\n",
        "print(\"F1-Score:\", f1_score(y_test, y_pred))\n"
      ],
      "metadata": {
        "id": "v5pF8coAh0_p"
      },
      "execution_count": null,
      "outputs": []
    },
    {
      "cell_type": "code",
      "source": [
        "# Question 13: Write a Python program to train a Logistic Regression model on imbalanced data and apply class weights to improve model performance.\n",
        "\n",
        "from sklearn.utils.class_weight import compute_class_weight\n",
        "\n",
        "# Generate imbalanced dataset (90% of class 0, 10% of class 1)\n",
        "y = np.hstack((np.zeros(180), np.ones(20)))\n",
        "np.random.shuffle(y)\n",
        "X = np.random.rand(200, 5)\n",
        "\n",
        "# Split dataset\n",
        "X_train, X_test, y_train, y_test = train_test_split(X, y, test_size=0.2, random_state=42)\n",
        "\n",
        "# Train model with class weights\n",
        "model = LogisticRegression(class_weight='balanced')\n",
        "model.fit(X_train, y_train)\n",
        "\n",
        "# Print accuracy\n",
        "print(\"Accuracy:\", accuracy_score(y_test, model.predict(X_test)))\n"
      ],
      "metadata": {
        "colab": {
          "base_uri": "https://localhost:8080/"
        },
        "id": "zPDZnWjGiDiI",
        "outputId": "a3cc5e04-0370-46a8-cfd2-9b851fbb1ac2"
      },
      "execution_count": 14,
      "outputs": [
        {
          "output_type": "stream",
          "name": "stdout",
          "text": [
            "Accuracy: 0.575\n"
          ]
        }
      ]
    },
    {
      "cell_type": "code",
      "source": [
        "# Question 14: Write a Python program to train Logistic Regression on the Titanic dataset, handle missing values, and evaluate performance.\n",
        "\n",
        "import seaborn as sns\n",
        "import pandas as pd\n",
        "from sklearn.impute import SimpleImputer\n",
        "from sklearn.pipeline import Pipeline\n",
        "\n",
        "# Load Titanic dataset\n",
        "df = sns.load_dataset('titanic')[['sex', 'age', 'fare', 'pclass', 'survived']].dropna()\n",
        "\n",
        "# Convert categorical 'sex' to numerical\n",
        "df['sex'] = df['sex'].map({'male': 0, 'female': 1})\n",
        "\n",
        "# Split data\n",
        "X = df[['sex', 'age', 'fare', 'pclass']]\n",
        "y = df['survived']\n",
        "X_train, X_test, y_train, y_test = train_test_split(X, y, test_size=0.2, random_state=42)\n",
        "\n",
        "# Handle missing values and train model\n",
        "pipeline = Pipeline([('imputer', SimpleImputer(strategy='mean')), ('model', LogisticRegression())])\n",
        "pipeline.fit(X_train, y_train)\n",
        "\n",
        "# Print accuracy\n",
        "print(\"Accuracy:\", accuracy_score(y_test, pipeline.predict(X_test)))\n"
      ],
      "metadata": {
        "colab": {
          "base_uri": "https://localhost:8080/"
        },
        "id": "8IbMgQIdiDkn",
        "outputId": "783470f0-ff12-49d9-de4d-d98095fc3687"
      },
      "execution_count": 15,
      "outputs": [
        {
          "output_type": "stream",
          "name": "stdout",
          "text": [
            "Accuracy: 0.7552447552447552\n"
          ]
        }
      ]
    },
    {
      "cell_type": "code",
      "source": [
        "# Question 15: Write a Python program to apply feature scaling (Standardization) before training a Logistic Regression model.\n",
        "# Evaluate its accuracy and compare results with and without scaling.\n",
        "\n",
        "import numpy as np\n",
        "from sklearn.model_selection import train_test_split\n",
        "from sklearn.preprocessing import StandardScaler\n",
        "from sklearn.linear_model import LogisticRegression\n",
        "from sklearn.metrics import accuracy_score\n",
        "\n",
        "# Generate dataset\n",
        "X = np.random.rand(300, 5)\n",
        "y = np.random.randint(0, 2, 300)\n",
        "\n",
        "# Split dataset\n",
        "X_train, X_test, y_train, y_test = train_test_split(X, y, test_size=0.2, random_state=42)\n",
        "\n",
        "# Without scaling\n",
        "model = LogisticRegression()\n",
        "model.fit(X_train, y_train)\n",
        "acc_no_scaling = accuracy_score(y_test, model.predict(X_test))\n",
        "\n",
        "# With scaling\n",
        "scaler = StandardScaler()\n",
        "X_train_scaled = scaler.fit_transform(X_train)\n",
        "X_test_scaled = scaler.transform(X_test)\n",
        "\n",
        "model_scaled = LogisticRegression()\n",
        "model_scaled.fit(X_train_scaled, y_train)\n",
        "acc_scaling = accuracy_score(y_test, model_scaled.predict(X_test_scaled))\n",
        "\n",
        "print(\"Accuracy without scaling:\", acc_no_scaling)\n",
        "print(\"Accuracy with scaling:\", acc_scaling)\n"
      ],
      "metadata": {
        "colab": {
          "base_uri": "https://localhost:8080/"
        },
        "id": "nYqycPiYiDnI",
        "outputId": "51d8ac79-ee21-4367-e450-2786cbe909b1"
      },
      "execution_count": 18,
      "outputs": [
        {
          "output_type": "stream",
          "name": "stdout",
          "text": [
            "Accuracy without scaling: 0.6333333333333333\n",
            "Accuracy with scaling: 0.6\n"
          ]
        }
      ]
    },
    {
      "cell_type": "code",
      "source": [
        "# Question 16: Write a Python program to train Logistic Regression and evaluate its performance using ROC-AUC score.\n",
        "\n",
        "from sklearn.metrics import roc_auc_score\n",
        "\n",
        "# Train model\n",
        "model = LogisticRegression()\n",
        "model.fit(X_train_scaled, y_train)\n",
        "\n",
        "# Predict probabilities\n",
        "y_prob = model.predict_proba(X_test_scaled)[:, 1]\n",
        "\n",
        "# Compute ROC-AUC score\n",
        "roc_auc = roc_auc_score(y_test, y_prob)\n",
        "print(\"ROC-AUC Score:\", roc_auc)\n"
      ],
      "metadata": {
        "colab": {
          "base_uri": "https://localhost:8080/"
        },
        "id": "HdTKHrjDiDpw",
        "outputId": "60079d19-c417-4b11-829a-20ea6b25a964"
      },
      "execution_count": 19,
      "outputs": [
        {
          "output_type": "stream",
          "name": "stdout",
          "text": [
            "ROC-AUC Score: 0.6318131256952169\n"
          ]
        }
      ]
    },
    {
      "cell_type": "code",
      "source": [
        "# Question 17: Write a Python program to train Logistic Regression using a custom learning rate (C=0.5) and evaluate accuracy.\n",
        "\n",
        "# Train model with custom C\n",
        "model_custom = LogisticRegression(C=0.5)\n",
        "model_custom.fit(X_train_scaled, y_train)\n",
        "\n",
        "# Evaluate accuracy\n",
        "accuracy = accuracy_score(y_test, model_custom.predict(X_test_scaled))\n",
        "print(\"Accuracy with C=0.5:\", accuracy)\n"
      ],
      "metadata": {
        "colab": {
          "base_uri": "https://localhost:8080/"
        },
        "id": "pM59a_4miDuv",
        "outputId": "abb9d9be-0fab-43e1-81dc-840f1c476d79"
      },
      "execution_count": 20,
      "outputs": [
        {
          "output_type": "stream",
          "name": "stdout",
          "text": [
            "Accuracy with C=0.5: 0.6\n"
          ]
        }
      ]
    },
    {
      "cell_type": "code",
      "source": [
        "# Question 18: Write a Python program to train Logistic Regression and identify important features based on model coefficients.\n",
        "\n",
        "# Train model\n",
        "model = LogisticRegression()\n",
        "model.fit(X_train_scaled, y_train)\n",
        "\n",
        "# Print feature importance\n",
        "print(\"Feature Importance (Coefficients):\", model.coef_)\n"
      ],
      "metadata": {
        "colab": {
          "base_uri": "https://localhost:8080/"
        },
        "id": "oQK9gDAFiDxI",
        "outputId": "62825ac4-4d88-4e12-f677-0bcb79a57aaf"
      },
      "execution_count": 21,
      "outputs": [
        {
          "output_type": "stream",
          "name": "stdout",
          "text": [
            "Feature Importance (Coefficients): [[0.13574474 0.12988621 0.19835398 0.17204567 0.13538168]]\n"
          ]
        }
      ]
    },
    {
      "cell_type": "code",
      "source": [
        "# Question 19: Write a Python program to train Logistic Regression and evaluate its performance using Cohen’s Kappa Score.\n",
        "\n",
        "from sklearn.metrics import cohen_kappa_score\n",
        "\n",
        "# Compute Cohen's Kappa Score\n",
        "kappa = cohen_kappa_score(y_test, model.predict(X_test_scaled))\n",
        "print(\"Cohen’s Kappa Score:\", kappa)\n"
      ],
      "metadata": {
        "colab": {
          "base_uri": "https://localhost:8080/"
        },
        "id": "4fwXZ1jViDzg",
        "outputId": "b396d02c-ef99-43c6-f3b0-256b2c62e00a"
      },
      "execution_count": 22,
      "outputs": [
        {
          "output_type": "stream",
          "name": "stdout",
          "text": [
            "Cohen’s Kappa Score: 0.19732441471571904\n"
          ]
        }
      ]
    },
    {
      "cell_type": "code",
      "source": [
        "# Question 20: Write a Python program to train Logistic Regression and visualize the Precision-Recall Curve for binary classification.\n",
        "\n",
        "from sklearn.metrics import precision_recall_curve\n",
        "import matplotlib.pyplot as plt\n",
        "\n",
        "# Compute precision-recall curve\n",
        "precision, recall, _ = precision_recall_curve(y_test, y_prob)\n",
        "\n",
        "# Plot curve\n",
        "plt.plot(recall, precision, marker='.')\n",
        "plt.xlabel(\"Recall\")\n",
        "plt.ylabel(\"Precision\")\n",
        "plt.title(\"Precision-Recall Curve\")\n",
        "plt.show()\n"
      ],
      "metadata": {
        "colab": {
          "base_uri": "https://localhost:8080/",
          "height": 472
        },
        "id": "TspUi7F0iD2I",
        "outputId": "fb37fa27-16f3-47b7-9e72-ff78c0461800"
      },
      "execution_count": 23,
      "outputs": [
        {
          "output_type": "display_data",
          "data": {
            "text/plain": [
              "<Figure size 640x480 with 1 Axes>"
            ],
            "image/png": "[encoded data removed]"
          },
          "metadata": {}
        }
      ]
    },
    {
      "cell_type": "code",
      "source": [
        "# Question 21: Write a Python program to train Logistic Regression with different solvers (liblinear, saga, lbfgs) and compare their accuracy.\n",
        "\n",
        "solvers = ['liblinear', 'saga', 'lbfgs']\n",
        "for solver in solvers:\n",
        "    model = LogisticRegression(solver=solver, max_iter=500)\n",
        "    model.fit(X_train_scaled, y_train)\n",
        "    accuracy = accuracy_score(y_test, model.predict(X_test_scaled))\n",
        "    print(f\"Accuracy with {solver} solver:\", accuracy)\n"
      ],
      "metadata": {
        "colab": {
          "base_uri": "https://localhost:8080/"
        },
        "id": "67_2J--siD43",
        "outputId": "833a403d-6ee1-4b2c-a450-758000c2123c"
      },
      "execution_count": 24,
      "outputs": [
        {
          "output_type": "stream",
          "name": "stdout",
          "text": [
            "Accuracy with liblinear solver: 0.6\n",
            "Accuracy with saga solver: 0.6\n",
            "Accuracy with lbfgs solver: 0.6\n"
          ]
        }
      ]
    },
    {
      "cell_type": "code",
      "source": [
        "# Question 22: Write a Python program to train Logistic Regression and evaluate its performance using Matthews Correlation Coefficient (MCC).\n",
        "\n",
        "from sklearn.metrics import matthews_corrcoef\n",
        "\n",
        "# Compute MCC\n",
        "mcc = matthews_corrcoef(y_test, model.predict(X_test_scaled))\n",
        "print(\"Matthews Correlation Coefficient (MCC):\", mcc)\n"
      ],
      "metadata": {
        "colab": {
          "base_uri": "https://localhost:8080/"
        },
        "id": "8EpIxCjJiD7Y",
        "outputId": "e772dd49-17cc-4497-c0e3-e395532aa9e5"
      },
      "execution_count": 25,
      "outputs": [
        {
          "output_type": "stream",
          "name": "stdout",
          "text": [
            "Matthews Correlation Coefficient (MCC): 0.19776733828108597\n"
          ]
        }
      ]
    },
    {
      "cell_type": "code",
      "source": [
        "# Question 23: Write a Python program to train Logistic Regression on both raw and standardized data.\n",
        "# Compare their accuracy to see the impact of feature scaling.\n",
        "\n",
        "print(\"Accuracy without scaling:\", acc_no_scaling)\n",
        "print(\"Accuracy with scaling:\", acc_scaling)\n"
      ],
      "metadata": {
        "colab": {
          "base_uri": "https://localhost:8080/"
        },
        "id": "0G892YqIiEBH",
        "outputId": "23edc3f3-c10e-4192-a32d-6c120ed4ab50"
      },
      "execution_count": 26,
      "outputs": [
        {
          "output_type": "stream",
          "name": "stdout",
          "text": [
            "Accuracy without scaling: 0.6333333333333333\n",
            "Accuracy with scaling: 0.6\n"
          ]
        }
      ]
    },
    {
      "cell_type": "code",
      "source": [
        "# Question 24: Write a Python program to train Logistic Regression and find the optimal C (regularization strength) using cross-validation.\n",
        "\n",
        "from sklearn.model_selection import GridSearchCV\n",
        "\n",
        "# Define parameter grid\n",
        "param_grid = {'C': [0.01, 0.1, 1, 10]}\n",
        "\n",
        "# Perform Grid Search\n",
        "grid = GridSearchCV(LogisticRegression(), param_grid, cv=5, scoring='accuracy')\n",
        "grid.fit(X_train_scaled, y_train)\n",
        "\n",
        "# Print best C value\n",
        "print(\"Best C:\", grid.best_params_['C'])\n"
      ],
      "metadata": {
        "colab": {
          "base_uri": "https://localhost:8080/"
        },
        "id": "ObPwJUTKze2u",
        "outputId": "39624cf5-8784-43cd-f408-f1c3cc3faf8c"
      },
      "execution_count": 27,
      "outputs": [
        {
          "output_type": "stream",
          "name": "stdout",
          "text": [
            "Best C: 1\n"
          ]
        }
      ]
    },
    {
      "cell_type": "code",
      "source": [
        "# Question 25: Write a Python program to train Logistic Regression, save the trained model using joblib, and load it again to make predictions.\n",
        "\n",
        "import joblib\n",
        "\n",
        "# Train model\n",
        "model = LogisticRegression()\n",
        "model.fit(X_train_scaled, y_train)\n",
        "\n",
        "# Save model\n",
        "joblib.dump(model, \"logistic_model.pkl\")\n",
        "\n",
        "# Load model\n",
        "loaded_model = joblib.load(\"logistic_model.pkl\")\n",
        "\n",
        "# Make predictions\n",
        "y_pred_loaded = loaded_model.predict(X_test_scaled)\n",
        "print(\"Accuracy of loaded model:\", accuracy_score(y_test, y_pred_loaded))\n"
      ],
      "metadata": {
        "colab": {
          "base_uri": "https://localhost:8080/"
        },
        "id": "5_dUnFoFzgyb",
        "outputId": "ecfccf4d-305f-453c-851e-f8704355aee6"
      },
      "execution_count": 28,
      "outputs": [
        {
          "output_type": "stream",
          "name": "stdout",
          "text": [
            "Accuracy of loaded model: 0.6\n"
          ]
        }
      ]
    },
    {
      "cell_type": "code",
      "source": [],
      "metadata": {
        "id": "fArvoCQCzir9"
      },
      "execution_count": null,
      "outputs": []
    }
  ]
}